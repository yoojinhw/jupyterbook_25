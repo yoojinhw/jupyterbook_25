{
 "cells": [
  {
   "cell_type": "markdown",
   "metadata": {
    "id": "5vW_ps6ZqZVe"
   },
   "source": [
    "# Stack"
   ]
  },
  {
   "cell_type": "markdown",
   "metadata": {},
   "source": [
    "# Set up"
   ]
  },
  {
   "cell_type": "markdown",
   "metadata": {
    "id": "k-sTHlVBhDYd"
   },
   "source": [
    "## Modify sys.path to Import External Modules"
   ]
  },
  {
   "cell_type": "code",
   "execution_count": 1,
   "metadata": {
    "id": "kmVGyNeRhDQ3"
   },
   "outputs": [],
   "source": [
    "import sys\n",
    "sys.path.append(\"C:/Users/rullu/OneDrive/바탕화~1-DESKTOP-1EHQRE9-9050723/EWHA/JupyterBook/template_jupyterbook\")"
   ]
  },
  {
   "cell_type": "markdown",
   "metadata": {
    "id": "xdk3VFdnKYAz"
   },
   "source": [
    "# Stack"
   ]
  },
  {
   "cell_type": "markdown",
   "metadata": {
    "id": "hFrqK5fC550O"
   },
   "source": [
    "## Import the ListStack class from the ListStack.py file"
   ]
  },
  {
   "cell_type": "code",
   "execution_count": 2,
   "metadata": {
    "colab": {
     "base_uri": "https://localhost:8080/"
    },
    "executionInfo": {
     "elapsed": 13,
     "status": "ok",
     "timestamp": 1744094673492,
     "user": {
      "displayName": "Ewha Biostat",
      "userId": "08955403781798893820"
     },
     "user_tz": -540
    },
    "id": "FiusF9GQ55iB",
    "outputId": "e6df0e3d-c6a1-4c3c-fee5-c644c61c5594"
   },
   "outputs": [
    {
     "name": "stdout",
     "output_type": "stream",
     "text": [
      "Elements from top to bottom: \n",
      "400 300 200 100 \n",
      "Top after pushes:  400\n",
      "Remove an element from top:  400\n",
      "Elements from top to bottom: \n",
      "300 200 100 \n",
      "Is the stack empty? False\n",
      "Number of element in the stack? 3\n"
     ]
    }
   ],
   "source": [
    "# Import the ListStack class from the ListNode.py file\n",
    "from DataStructureCode.ListStack import *\n",
    "stack = ListStack()\n",
    "stack.push(100); stack.push(200); stack.push(300); stack.push(400)\n",
    "stack.printStack()\n",
    "print(\"Top after pushes: \", stack.top())\n",
    "print(\"Remove an element from top: \", stack.pop())\n",
    "stack.printStack()\n",
    "print('Is the stack empty?', stack.isEmpty())\n",
    "print('Number of element in the stack?', stack.size())"
   ]
  },
  {
   "cell_type": "markdown",
   "metadata": {
    "id": "SEfG4X63JIEX"
   },
   "source": [
    "## Import the LinkedStack class from the LinkedStack.py file"
   ]
  },
  {
   "cell_type": "code",
   "execution_count": 3,
   "metadata": {
    "colab": {
     "base_uri": "https://localhost:8080/"
    },
    "executionInfo": {
     "elapsed": 659,
     "status": "ok",
     "timestamp": 1744094731885,
     "user": {
      "displayName": "Ewha Biostat",
      "userId": "08955403781798893820"
     },
     "user_tz": -540
    },
    "id": "dIwaQ_zTJH1v",
    "outputId": "d3a5b7ff-8bc6-4007-9593-2a2ee1f91b6b"
   },
   "outputs": [
    {
     "name": "stdout",
     "output_type": "stream",
     "text": [
      "Elements from top to bottom:  400 300 200 100 Top after pushes:  400\n",
      "Remove an element from top:  400\n",
      "Elements from top to bottom:  300 200 100 Is the stack empty? False\n",
      "Number of element in the stack? 3\n"
     ]
    }
   ],
   "source": [
    "# Import the ListNode class from the ListNode.py file\n",
    "from DataStructureCode.LinkedStack import *\n",
    "stack = LinkedStack()\n",
    "stack.push(100); stack.push(200); stack.push(300); stack.push(400)\n",
    "stack.printStack()\n",
    "print(\"Top after pushes: \", stack.top())\n",
    "print(\"Remove an element from top: \", stack.pop())\n",
    "stack.printStack()\n",
    "print('Is the stack empty?', stack.isEmpty())\n",
    "print('Number of element in the stack?', stack.size())"
   ]
  },
  {
   "cell_type": "markdown",
   "metadata": {
    "id": "Vm-KGr9wPYTK"
   },
   "source": [
    "# Exercises!"
   ]
  },
  {
   "cell_type": "markdown",
   "metadata": {
    "id": "aCz_Cy1oPa6u"
   },
   "source": [
    "## Reverse: Stack\n",
    "\n",
    "1. Create a function that reverses the characters in a string using a stack, without modifying the original stack.\n",
    "\n",
    "2. Create a function that reverses a given stack using another stack.\n",
    "This function should modify the original stack.\n",
    "\n",
    "3. Add a second reverse() method to the ListStack class to implement the behavior described in (2)."
   ]
  },
  {
   "cell_type": "code",
   "execution_count": 4,
   "metadata": {
    "colab": {
     "base_uri": "https://localhost:8080/"
    },
    "executionInfo": {
     "elapsed": 14,
     "status": "ok",
     "timestamp": 1744096586908,
     "user": {
      "displayName": "Ewha Biostat",
      "userId": "08955403781798893820"
     },
     "user_tz": -540
    },
    "id": "tSZOAgpDPazI",
    "outputId": "03770de2-58c7-467d-a87d-4801ea6b04be"
   },
   "outputs": [
    {
     "name": "stdout",
     "output_type": "stream",
     "text": [
      "Elements from top to bottom: \n",
      "400 300 200 100 \n"
     ]
    },
    {
     "ename": "AttributeError",
     "evalue": "'ListStack' object has no attribute 'copy'",
     "output_type": "error",
     "traceback": [
      "\u001b[1;31m------------------------------------------------------------\u001b[0m",
      "\u001b[1;31mAttributeError\u001b[0m             Traceback (most recent call last)",
      "Cell \u001b[1;32mIn[4], line 21\u001b[0m\n\u001b[0;32m     18\u001b[0m      new_stack\u001b[38;5;241m.\u001b[39mitems \u001b[38;5;241m=\u001b[39m \u001b[38;5;28mself\u001b[39m\u001b[38;5;241m.\u001b[39mitems[:]  \n\u001b[0;32m     19\u001b[0m      \u001b[38;5;28;01mreturn\u001b[39;00m new_stack\n\u001b[1;32m---> 21\u001b[0m rev_stack \u001b[38;5;241m=\u001b[39m \u001b[43mreverse\u001b[49m\u001b[43m(\u001b[49m\u001b[43mstack\u001b[49m\u001b[43m)\u001b[49m\n\u001b[0;32m     22\u001b[0m rev_stack\u001b[38;5;241m.\u001b[39mprintStack()\n",
      "Cell \u001b[1;32mIn[4], line 8\u001b[0m, in \u001b[0;36mreverse\u001b[1;34m(original_stack)\u001b[0m\n\u001b[0;32m      7\u001b[0m \u001b[38;5;28;01mdef\u001b[39;00m\u001b[38;5;250m \u001b[39m\u001b[38;5;21mreverse\u001b[39m(original_stack):\n\u001b[1;32m----> 8\u001b[0m     temp_stack \u001b[38;5;241m=\u001b[39m \u001b[43moriginal_stack\u001b[49m\u001b[38;5;241;43m.\u001b[39;49m\u001b[43mcopy\u001b[49m()  \u001b[38;5;66;03m# 복사본 만들기\u001b[39;00m\n\u001b[0;32m      9\u001b[0m     rev_stack \u001b[38;5;241m=\u001b[39m ListStack()\n\u001b[0;32m     11\u001b[0m     \u001b[38;5;28;01mwhile\u001b[39;00m \u001b[38;5;129;01mnot\u001b[39;00m temp_stack\u001b[38;5;241m.\u001b[39misEmpty():\n",
      "\u001b[1;31mAttributeError\u001b[0m: 'ListStack' object has no attribute 'copy'"
     ]
    }
   ],
   "source": [
    "stack = ListStack()\n",
    "stack.push(100); stack.push(200); stack.push(300); stack.push(400)\n",
    "stack.printStack()\n",
    "\n",
    "# a function that reverses the characters in a string using a stack, without modifying the original stack.\n",
    "\n",
    "def reverse(original_stack):\n",
    "    temp_stack = original_stack.copy()  # 복사본 만들기\n",
    "    rev_stack = ListStack()\n",
    "\n",
    "    while not temp_stack.isEmpty():\n",
    "        rev_stack.push(temp_stack.pop())\n",
    "\n",
    "    return rev_stack\n",
    "\n",
    "def copy(self):\n",
    "     new_stack = ListStack()\n",
    "     new_stack.items = self.items[:]  \n",
    "     return new_stack\n",
    "\n",
    "rev_stack = reverse(stack)\n",
    "rev_stack.printStack()"
   ]
  },
  {
   "cell_type": "code",
   "execution_count": 10,
   "metadata": {
    "colab": {
     "base_uri": "https://localhost:8080/"
    },
    "executionInfo": {
     "elapsed": 21,
     "status": "ok",
     "timestamp": 1744098157691,
     "user": {
      "displayName": "Ewha Biostat",
      "userId": "08955403781798893820"
     },
     "user_tz": -540
    },
    "id": "OslzmbofUz7R",
    "outputId": "d1a2dade-7ca7-47f6-d638-cfddeaa76cca"
   },
   "outputs": [
    {
     "name": "stdout",
     "output_type": "stream",
     "text": [
      "Elements from top to bottom: \n",
      "400 300 200 100 \n",
      "Reversed (in-place) stack:\n",
      "Elements from top to bottom: \n",
      "\n"
     ]
    }
   ],
   "source": [
    "# A function that reverses a given stack using another stack. This function should modify the original stack.\n",
    "def reverseInPlace(stack):\n",
    "    rev_stack = ListStack()\n",
    "    while not stack.isEmpty():\n",
    "     rev_stack.push(stack.pop())\n",
    "    return rev_stack\n",
    "\n",
    "stack = ListStack()\n",
    "stack.push(100); stack.push(200); stack.push(300); stack.push(400)\n",
    "stack.printStack()\n",
    "\n",
    "print(\"Reversed (in-place) stack:\")\n",
    "reverseInPlace(stack)\n",
    "stack.printStack()"
   ]
  },
  {
   "cell_type": "markdown",
   "metadata": {
    "id": "F-HpVpjJJstO"
   },
   "source": [
    "## Fun Example: in your Python, try the below"
   ]
  },
  {
   "cell_type": "code",
   "execution_count": null,
   "metadata": {
    "id": "UNXlokiiJtRn"
   },
   "outputs": [],
   "source": [
    "import webbrowser\n",
    "import time\n",
    "import sys\n",
    "stack = ListStack()\n",
    "urls = [ \"naver.com\", \"daum.net\", \"nate.com\"]\n",
    "# Browser history stacks up in the order in which you visit websites\n",
    "# push url of each visited websites to a stack\n",
    "for url in urls:\n",
    "  stack.push(url)\n",
    "  # When you hit the back button, the previous URL is popped from the stack.\n",
    "\n",
    "while not stack.isEmpty(): # if stack is not empty\n",
    "  url = stack.pop() # pop the previous URL and open the browser\n",
    "  webbrowser.open('http://'+url)"
   ]
  },
  {
   "cell_type": "markdown",
   "metadata": {},
   "source": [
    "# New Question\n",
    ": Sort a Stack in Descending Order Using Another Stack"
   ]
  },
  {
   "cell_type": "code",
   "execution_count": 19,
   "metadata": {},
   "outputs": [
    {
     "name": "stdout",
     "output_type": "stream",
     "text": [
      "[3, 23, 31, 34, 92, 98]\n"
     ]
    }
   ],
   "source": [
    "def sortStack(stack):\n",
    "    temp_stack = []\n",
    "    \n",
    "    while stack:\n",
    "        current = stack.pop()\n",
    "        while temp_stack and temp_stack[-1] < current:\n",
    "            stack.append(temp_stack.pop())\n",
    "        temp_stack.append(current)\n",
    "    while temp_stack:\n",
    "        stack.append(temp_stack.pop())\n",
    "\n",
    "stack = [34, 3, 31, 98, 92, 23]\n",
    "sortStack(stack)\n",
    "print(stack)"
   ]
  }
 ],
 "metadata": {
  "colab": {
   "authorship_tag": "ABX9TyPtFTOwAyfotmbpi1LL40kj",
   "provenance": [],
   "toc_visible": true
  },
  "kernelspec": {
   "display_name": "Python 3",
   "name": "python3"
  },
  "language_info": {
   "codemirror_mode": {
    "name": "ipython",
    "version": 3
   },
   "file_extension": ".py",
   "mimetype": "text/x-python",
   "name": "python",
   "nbconvert_exporter": "python",
   "pygments_lexer": "ipython3",
   "version": "3.10.11"
  }
 },
 "nbformat": 4,
 "nbformat_minor": 0
}