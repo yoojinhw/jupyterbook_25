{
 "cells": [
  {
   "cell_type": "markdown",
   "metadata": {
    "id": "5vW_ps6ZqZVe"
   },
   "source": [
    "# Recursion"
   ]
  },
  {
   "cell_type": "markdown",
   "metadata": {},
   "source": [
    "# Set Up"
   ]
  },
  {
   "cell_type": "markdown",
   "metadata": {
    "id": "k-sTHlVBhDYd"
   },
   "source": [
    "## Modify sys.path to Import External Modules"
   ]
  },
  {
   "cell_type": "markdown",
   "metadata": {
    "id": "ofwQQRxSi9qQ"
   },
   "source": []
  },
  {
   "cell_type": "code",
   "execution_count": 1,
   "metadata": {
    "id": "kmVGyNeRhDQ3"
   },
   "outputs": [],
   "source": [
    "import sys\n",
    "sys.path.append(\"C:/Users/rullu/OneDrive/바탕화~1-DESKTOP-1EHQRE9-9050723/EWHA/JupyterBook/template_jupyterbook\")"
   ]
  },
  {
   "cell_type": "markdown",
   "metadata": {
    "id": "p3b3bDBni-gY"
   },
   "source": [
    "# Example 1: Fibonacci\n",
    "\n",
    "In the lecture, we showed the time complexity of the below algorithm for Fibonacci series is $O(2^n)$. In similar way, find Big Omega $\\Omega(\\cdot)$ of this algorithm.\n"
   ]
  },
  {
   "cell_type": "code",
   "execution_count": 2,
   "metadata": {
    "id": "9ppWH1oJnAxE"
   },
   "outputs": [],
   "source": [
    "\n",
    "# Recursion\n",
    "def fib_recursive(n):\n",
    "  if n < 0:\n",
    "    print(\"Incorrect input\")\n",
    "  elif n == 0:\n",
    "    return 0\n",
    "  elif n == 1 or n == 2:\n",
    "    return 1\n",
    "  else:\n",
    "    return fib_recursive(n-1)+fib_recursive(n-2)\n"
   ]
  },
  {
   "cell_type": "markdown",
   "metadata": {
    "id": "SnuFNKgvcvZH"
   },
   "source": [
    "## Solution"
   ]
  },
  {
   "cell_type": "markdown",
   "metadata": {
    "id": "P7nEIrGInrC2"
   },
   "source": [
    "# Example 2: Factorial\n",
    "\n",
    "* Write functions that calculates the factorial of n (i.e., n!)\n",
    "  - Approach 1: Using For loop\n",
    "  - Approach 2: Using Recursive algorithm\n",
    "\n",
    "$$\n",
    "\\begin{align*}\n",
    "n!=\n",
    "\\begin{cases}\n",
    "  1 & \\text{if $n < 1$}\\\\\n",
    "  n*(n-1)! & \\text{if $n \\ge 1$}\n",
    "\\end{cases}    \n",
    "\\end{align*}\n",
    "$$\n",
    "\n",
    "* Time complexity analysis\n",
    "  - Provide comparison of both practical (e.g. for n=600) and theoretical time complexity analysis for each approach\n",
    "\n",
    "## Solution\n",
    "\n"
   ]
  },
  {
   "cell_type": "code",
   "execution_count": 3,
   "metadata": {
    "colab": {
     "base_uri": "https://localhost:8080/"
    },
    "executionInfo": {
     "elapsed": 11,
     "status": "ok",
     "timestamp": 1742204860416,
     "user": {
      "displayName": "Ewha Biostat",
      "userId": "08955403781798893820"
     },
     "user_tz": -540
    },
    "id": "P0NSbGtdnrSm",
    "outputId": "0029892b-1ad0-4cdf-8060-37d96d7c24ce"
   },
   "outputs": [
    {
     "name": "stdout",
     "output_type": "stream",
     "text": [
      "Time for iterative approach: 0.0 minutes\n",
      "Time for recursive approach: 0.0 minutes\n"
     ]
    }
   ],
   "source": [
    "def factorial_for(num):\n",
    "     result = 1\n",
    "     for i in range(1, num + 1):\n",
    "        result *= i\n",
    "     return result\n",
    "\n",
    "\n",
    "\n",
    "def factorial_recursive(num):\n",
    "    if num < 1:\n",
    "      return 1\n",
    "    else:\n",
    "      return num * factorial_recursive(num - 1)\n",
    "\n",
    "\n",
    "import time\n",
    "start_time = time.time()\n",
    "factorial_for(600)\n",
    "time_for = time.time() - start_time\n",
    "\n",
    "start_time = time.time()\n",
    "factorial_recursive(600)\n",
    "time_recursive = time.time() - start_time\n",
    "\n",
    "print(\"Time for iterative approach:\", round(time_for, 4), \"minutes\")\n",
    "print(\"Time for recursive approach:\", round(time_recursive, 4), \"minutes\")"
   ]
  },
  {
   "cell_type": "markdown",
   "metadata": {
    "id": "tuQ1MsZFg9Zv"
   },
   "source": [
    "# Example 3: Gugu-dan\n",
    "\n",
    "We can write an iterative algorithm that prints out a multiplication table (i.e., gugu-dan) as below. Write a recursive algorithm for the gugu-dan. For example, 'Table of 3' should print the following. What is the Big O of the gugu-dan algorithms?\n",
    "\n",
    "## Solution"
   ]
  },
  {
   "cell_type": "code",
   "execution_count": 4,
   "metadata": {
    "colab": {
     "base_uri": "https://localhost:8080/",
     "height": 106
    },
    "executionInfo": {
     "elapsed": 9,
     "status": "error",
     "timestamp": 1742206830873,
     "user": {
      "displayName": "Ewha Biostat",
      "userId": "08955403781798893820"
     },
     "user_tz": -540
    },
    "id": "CjEEiGleg9Cz",
    "outputId": "88fe7689-8c9b-4c77-ece7-7a9673be5293"
   },
   "outputs": [
    {
     "name": "stdout",
     "output_type": "stream",
     "text": [
      "3 x 1 = 3\n",
      "3 x 2 = 6\n",
      "3 x 3 = 9\n",
      "3 x 4 = 12\n",
      "3 x 5 = 15\n",
      "3 x 6 = 18\n",
      "3 x 7 = 21\n",
      "3 x 8 = 24\n",
      "3 x 9 = 27\n",
      "3 x 1 = 3\n",
      "3 x 2 = 6\n",
      "3 x 3 = 9\n",
      "3 x 4 = 12\n",
      "3 x 5 = 15\n",
      "3 x 6 = 18\n",
      "3 x 7 = 21\n",
      "3 x 8 = 24\n",
      "3 x 9 = 27\n"
     ]
    }
   ],
   "source": [
    "# Iterative\n",
    "def gugu_iterative(dan):\n",
    "    for num in range(1, 10):\n",
    "        print(\"%d x %d = %d\" % (dan, num, dan * num))\n",
    "gugu_iterative(3)\n",
    "\n",
    "# Recursive\n",
    "def gugu_recursive(dan, num=1) :\n",
    "    if num > 9 :\n",
    "      return\n",
    "    print(\"%d x %d = %d\" % (dan, num, dan * num))\n",
    "    gugu_recursive(dan, num + 1)\n",
    "\n",
    "gugu_recursive(3)"
   ]
  },
  {
   "cell_type": "markdown",
   "metadata": {
    "id": "SBfIECpvjkMD"
   },
   "source": [
    "# Example 4: Fibonacci O(n)\n",
    "\n",
    "Can you write an algorithm for the Fibonacci series with a time complexity of $O(n)$ instead of $O(2^n)$? For example, Fibonacci sequence up to the 10th term (index 0 to 10) is $[0, 1, 1, 2, 3, 5, 8, 13, 21, 34, 55]$,\n",
    "\n",
    "Hint: [Helpful resource](https://chanos.tistory.com/entry/%EC%9E%90%EB%A3%8C%EA%B5%AC%EC%A1%B0-%ED%94%BC%EB%B3%B4%EB%82%98%EC%B9%98-%EC%88%98%EC%97%B4%EC%9D%98-%EC%8B%9C%EA%B0%84-%EB%B3%B5%EC%9E%A1%EB%8F%84-%EC%99%84%EB%B2%BD%ED%9E%88-%EC%9D%B4%ED%95%B4%ED%95%98%EA%B8%B0)\n",
    "\n",
    "## Solution"
   ]
  },
  {
   "cell_type": "code",
   "execution_count": 5,
   "metadata": {
    "colab": {
     "base_uri": "https://localhost:8080/"
    },
    "executionInfo": {
     "elapsed": 12,
     "status": "ok",
     "timestamp": 1742206425747,
     "user": {
      "displayName": "Ewha Biostat",
      "userId": "08955403781798893820"
     },
     "user_tz": -540
    },
    "id": "VRDORBsIjj3O",
    "outputId": "bf203744-69ad-4159-b2f5-b9489867027d"
   },
   "outputs": [
    {
     "name": "stdout",
     "output_type": "stream",
     "text": [
      "fib_recursive:  55\n",
      "fib_recursive2:  55\n"
     ]
    }
   ],
   "source": [
    "def fib_recursive2(n, initial_values=[0, 1]):\n",
    " fib_series = [0, 1]\n",
    " for i in range(2, n + 1):\n",
    "    fib_series.append(fib_series[i - 1] + fib_series[i - 2])\n",
    " return fib_series[n]\n",
    "\n",
    "print(\"fib_recursive: \", fib_recursive(10))\n",
    "print(\"fib_recursive2: \", fib_recursive2(10))"
   ]
  },
  {
   "cell_type": "markdown",
   "metadata": {},
   "source": [
    "# New Question\n",
    ": return the sum of array elements"
   ]
  },
  {
   "cell_type": "code",
   "execution_count": 6,
   "metadata": {},
   "outputs": [
    {
     "name": "stdout",
     "output_type": "stream",
     "text": [
      "129\n"
     ]
    }
   ],
   "source": [
    "def sum_array(arr):\n",
    "    if len(arr) == 0:\n",
    "        return 0\n",
    "    return arr[0] + sum_array(arr[1:])\n",
    "\n",
    "a = [1, 2, 3, 123]\n",
    "print(sum_array(a))  \n"
   ]
  }
 ],
 "metadata": {
  "colab": {
   "authorship_tag": "ABX9TyPJPAFPSAkFhYF0s7Ki2TkG",
   "provenance": [],
   "toc_visible": true
  },
  "kernelspec": {
   "display_name": "Python 3",
   "name": "python3"
  },
  "language_info": {
   "codemirror_mode": {
    "name": "ipython",
    "version": 3
   },
   "file_extension": ".py",
   "mimetype": "text/x-python",
   "name": "python",
   "nbconvert_exporter": "python",
   "pygments_lexer": "ipython3",
   "version": "3.10.11"
  }
 },
 "nbformat": 4,
 "nbformat_minor": 0
}