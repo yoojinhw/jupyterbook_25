{
 "cells": [
  {
   "cell_type": "markdown",
   "metadata": {
    "id": "5vW_ps6ZqZVe"
   },
   "source": [
    "# Queue"
   ]
  },
  {
   "cell_type": "markdown",
   "metadata": {},
   "source": [
    "# Set Up"
   ]
  },
  {
   "cell_type": "markdown",
   "metadata": {
    "id": "k-sTHlVBhDYd"
   },
   "source": [
    "## Modify sys.path to Import External Modules"
   ]
  },
  {
   "cell_type": "code",
   "execution_count": 1,
   "metadata": {
    "id": "kmVGyNeRhDQ3"
   },
   "outputs": [],
   "source": [
    "import sys\n",
    "sys.path.append(\"C:/Users/rullu/OneDrive/바탕화~1-DESKTOP-1EHQRE9-9050723/EWHA/JupyterBook/template_jupyterbook\")"
   ]
  },
  {
   "cell_type": "markdown",
   "metadata": {
    "id": "1ORCt1I4LMOW"
   },
   "source": [
    "# Queue"
   ]
  },
  {
   "cell_type": "markdown",
   "metadata": {
    "id": "8uebtTngN9gS"
   },
   "source": [
    "## Import the ListQueue class from the ListQueue.py file"
   ]
  },
  {
   "cell_type": "code",
   "execution_count": 2,
   "metadata": {
    "colab": {
     "base_uri": "https://localhost:8080/"
    },
    "executionInfo": {
     "elapsed": 4582,
     "status": "ok",
     "timestamp": 1744695163799,
     "user": {
      "displayName": "Ewha Biostat",
      "userId": "08955403781798893820"
     },
     "user_tz": -540
    },
    "id": "0U4jqshMKJpJ",
    "outputId": "128e7836-a36d-4598-ec7d-ff84dfbd4b10"
   },
   "outputs": [
    {
     "name": "stdout",
     "output_type": "stream",
     "text": [
      "Elements from front to end: \n",
      "Mon Tue Wed Thurs Fri \n",
      "Dequeue: remove an element from the front of the queue:  Mon\n",
      "Elements from front to end: \n",
      "Tue Wed Thurs Fri "
     ]
    }
   ],
   "source": [
    "from DataStructureCode.ListQueue import *\n",
    "queue = ListQueue()\n",
    "queue.enqueue(\"Mon\"); queue.enqueue(\"Tue\"); queue.enqueue(\"Wed\"); queue.enqueue(\"Thurs\"); queue.enqueue(\"Fri\")\n",
    "queue.printQueue()\n",
    "print(\"\\nDequeue: remove an element from the front of the queue: \", queue.dequeue())\n",
    "queue.printQueue()"
   ]
  },
  {
   "cell_type": "markdown",
   "metadata": {
    "id": "Vm-KGr9wPYTK"
   },
   "source": [
    "# Exercises!"
   ]
  },
  {
   "cell_type": "code",
   "execution_count": 3,
   "metadata": {},
   "outputs": [],
   "source": [
    "from DataStructureCode.CircularLinkedList import *\n",
    "\n",
    "class LinkedQueue:\n",
    "\t\n",
    "\tdef __init__(self):\n",
    "\t\t self.queue = CircularLinkedList()\n",
    "\tdef enqueue(self, x):\n",
    "\t\tself.queue.append(x)\n",
    "\n",
    "\tdef dequeue(self):\n",
    "\t\t return self.queue.pop(0)\n",
    "\n",
    "\tdef front(self):\n",
    "\t\t return self.queue.get(0)\n",
    "\n",
    "\tdef isEmpty(self) -> bool:\n",
    "\t\t return self.queue.isEmpty()\n",
    "\n",
    "\tdef dequeueAll(self):\n",
    "\t\t self.queue.clear()\n",
    "\n",
    "\tdef size(self):\n",
    "\t\t return self.queue.size()\n",
    "\n",
    "\tdef printQueue(self):\n",
    "\t\tprint(\"Elements from front to end: \")\n",
    "\t\tfor i in range(self.queue.size()):\n",
    "\t\t\tprint(self.queue.get(i), end = ' ')\n",
    "\t\tprint()"
   ]
  },
  {
   "cell_type": "code",
   "execution_count": 4,
   "metadata": {
    "colab": {
     "base_uri": "https://localhost:8080/"
    },
    "executionInfo": {
     "elapsed": 1387,
     "status": "ok",
     "timestamp": 1744695174170,
     "user": {
      "displayName": "Ewha Biostat",
      "userId": "08955403781798893820"
     },
     "user_tz": -540
    },
    "id": "Fj6px8NLKHC2",
    "outputId": "7bfdba64-d4b1-40c7-fd61-05aeef3bc4b8"
   },
   "outputs": [
    {
     "name": "stdout",
     "output_type": "stream",
     "text": [
      "Elements from front to end: \n",
      "Mon Tue Wed Thurs Fri \n",
      "\n",
      "Dequeue: remove an element from the front of the queue:  Mon\n",
      "Elements from front to end: \n",
      "Tue Wed Thurs Fri \n"
     ]
    }
   ],
   "source": [
    "from DataStructureCode.LinkedQueue import *\n",
    "queue = LinkedQueue()\n",
    "queue.enqueue(\"Mon\"); queue.enqueue(\"Tue\"); queue.enqueue(\"Wed\"); queue.enqueue(\"Thurs\"); queue.enqueue(\"Fri\")\n",
    "queue.printQueue()\n",
    "print(\"\\nDequeue: remove an element from the front of the queue: \", queue.dequeue())\n",
    "queue.printQueue()"
   ]
  },
  {
   "cell_type": "markdown",
   "metadata": {
    "id": "aCz_Cy1oPa6u"
   },
   "source": [
    "## Reverse: Queue\n",
    "\n",
    "1. Suppose you have a queue. Create a function that reverses individual characters in a string using a queue. This time make the original queue to be reversed.\n",
    "2. Try to add `reverse()` method to the ListQueue class."
   ]
  },
  {
   "cell_type": "code",
   "execution_count": 5,
   "metadata": {
    "colab": {
     "base_uri": "https://localhost:8080/"
    },
    "executionInfo": {
     "elapsed": 10,
     "status": "ok",
     "timestamp": 1744696992292,
     "user": {
      "displayName": "Ewha Biostat",
      "userId": "08955403781798893820"
     },
     "user_tz": -540
    },
    "id": "tSZOAgpDPazI",
    "outputId": "25a0de20-2af4-4b10-e775-cc1b9131f3f7"
   },
   "outputs": [
    {
     "name": "stdout",
     "output_type": "stream",
     "text": [
      "Elements from front to end: \n",
      "Mon Tue Wed Thurs Fri \n",
      "After Reversing the queue:\n",
      "Elements from front to end: \n",
      "Fri Thurs Wed Tue Mon \n"
     ]
    }
   ],
   "source": [
    "from DataStructureCode.LinkedQueue import *\n",
    "queue = LinkedQueue()\n",
    "queue.enqueue(\"Mon\"); queue.enqueue(\"Tue\"); queue.enqueue(\"Wed\"); queue.enqueue(\"Thurs\"); queue.enqueue(\"Fri\")\n",
    "queue.printQueue()\n",
    "\n",
    "def reverseQueue(queue):\n",
    " if queue.isEmpty():\n",
    "    return\n",
    " data = queue.dequeue()\n",
    " reverseQueue(queue)\n",
    " queue.enqueue(data)\n",
    " \n",
    "reverseQueue(queue)\n",
    "print(\"After Reversing the queue:\")\n",
    "queue.printQueue()"
   ]
  },
  {
   "cell_type": "markdown",
   "metadata": {
    "id": "u2DlphfyDJTw"
   },
   "source": [
    "## Palindrome\n",
    "\n",
    "*   Palindrome is word, phrase, or sequence that reads the same backward as forward (e.g. madam, mom, kayak). Write a function that checks if a string is palindrome using stack and queue data structure.\n",
    "\n"
   ]
  },
  {
   "cell_type": "code",
   "execution_count": 6,
   "metadata": {
    "colab": {
     "base_uri": "https://localhost:8080/"
    },
    "executionInfo": {
     "elapsed": 6,
     "status": "ok",
     "timestamp": 1744697915701,
     "user": {
      "displayName": "Ewha Biostat",
      "userId": "08955403781798893820"
     },
     "user_tz": -540
    },
    "id": "OSVrjh_LDItk",
    "outputId": "803b2976-ea2c-4acb-d75e-947c3b1486fa"
   },
   "outputs": [
    {
     "name": "stdout",
     "output_type": "stream",
     "text": [
      "civic is Palindrome?:  True\n"
     ]
    }
   ],
   "source": [
    "from DataStructureCode.ListStack import *\n",
    "from DataStructureCode.ListQueue import *\n",
    "\n",
    "def isPalindrome(A):\n",
    "    stack = ListStack()\n",
    "    queue = ListQueue()\n",
    "\n",
    "    for i in range(len(A)):\n",
    "      stack.push(A[i])\n",
    "      queue.enqueue(A[i])\n",
    "      \n",
    "    while not stack.isEmpty():\n",
    "        if stack.pop() != queue.dequeue():\n",
    "            return False\n",
    "    return True\n",
    "\n",
    "str = 'civic'\n",
    "print(str, \"is Palindrome?: \", isPalindrome(str))"
   ]
  },
  {
   "cell_type": "markdown",
   "metadata": {
    "id": "F-HpVpjJJstO"
   },
   "source": [
    "## Fun Example: in your Python, try the below"
   ]
  },
  {
   "cell_type": "code",
   "execution_count": 7,
   "metadata": {
    "id": "W6aL9lmxT0iL"
   },
   "outputs": [
    {
     "ename": "StdinNotImplementedError",
     "evalue": "raw_input was called, but this frontend does not support input requests.",
     "output_type": "error",
     "traceback": [
      "\u001b[1;31m-----------------------------------------------------------------------\u001b[0m",
      "\u001b[1;31mStdinNotImplementedError\u001b[0m              Traceback (most recent call last)",
      "Cell \u001b[1;32mIn[7], line 1\u001b[0m\n\u001b[1;32m----> 1\u001b[0m select \u001b[38;5;241m=\u001b[39m \u001b[38;5;28;43minput\u001b[39;49m\u001b[43m(\u001b[49m\u001b[38;5;124;43m\"\u001b[39;49m\u001b[38;5;124;43mChoose one of the followings (I/D/X): Insert(I)/Delete(D)/Exit(X) ==> \u001b[39;49m\u001b[38;5;124;43m\"\u001b[39;49m\u001b[43m)\u001b[49m\n\u001b[0;32m      2\u001b[0m queue \u001b[38;5;241m=\u001b[39m ListQueue()\n\u001b[0;32m      3\u001b[0m \u001b[38;5;28;01mwhile\u001b[39;00m (select \u001b[38;5;241m!=\u001b[39m \u001b[38;5;124m\"\u001b[39m\u001b[38;5;124mX\u001b[39m\u001b[38;5;124m\"\u001b[39m \u001b[38;5;129;01mand\u001b[39;00m select \u001b[38;5;241m!=\u001b[39m \u001b[38;5;124m\"\u001b[39m\u001b[38;5;124mx\u001b[39m\u001b[38;5;124m\"\u001b[39m):\n",
      "File \u001b[1;32m~\\AppData\\Local\\Programs\\Python\\Python310\\lib\\site-packages\\ipykernel\\kernelbase.py:1281\u001b[0m, in \u001b[0;36mKernel.raw_input\u001b[1;34m(self, prompt)\u001b[0m\n\u001b[0;32m   1279\u001b[0m \u001b[38;5;28;01mif\u001b[39;00m \u001b[38;5;129;01mnot\u001b[39;00m \u001b[38;5;28mself\u001b[39m\u001b[38;5;241m.\u001b[39m_allow_stdin:\n\u001b[0;32m   1280\u001b[0m     msg \u001b[38;5;241m=\u001b[39m \u001b[38;5;124m\"\u001b[39m\u001b[38;5;124mraw_input was called, but this frontend does not support input requests.\u001b[39m\u001b[38;5;124m\"\u001b[39m\n\u001b[1;32m-> 1281\u001b[0m     \u001b[38;5;28;01mraise\u001b[39;00m StdinNotImplementedError(msg)\n\u001b[0;32m   1282\u001b[0m \u001b[38;5;28;01mreturn\u001b[39;00m \u001b[38;5;28mself\u001b[39m\u001b[38;5;241m.\u001b[39m_input_request(\n\u001b[0;32m   1283\u001b[0m     \u001b[38;5;28mstr\u001b[39m(prompt),\n\u001b[0;32m   1284\u001b[0m     \u001b[38;5;28mself\u001b[39m\u001b[38;5;241m.\u001b[39m_parent_ident[\u001b[38;5;124m\"\u001b[39m\u001b[38;5;124mshell\u001b[39m\u001b[38;5;124m\"\u001b[39m],\n\u001b[0;32m   1285\u001b[0m     \u001b[38;5;28mself\u001b[39m\u001b[38;5;241m.\u001b[39mget_parent(\u001b[38;5;124m\"\u001b[39m\u001b[38;5;124mshell\u001b[39m\u001b[38;5;124m\"\u001b[39m),\n\u001b[0;32m   1286\u001b[0m     password\u001b[38;5;241m=\u001b[39m\u001b[38;5;28;01mFalse\u001b[39;00m,\n\u001b[0;32m   1287\u001b[0m )\n",
      "\u001b[1;31mStdinNotImplementedError\u001b[0m: raw_input was called, but this frontend does not support input requests."
     ]
    }
   ],
   "source": [
    "select = input(\"Choose one of the followings (I/D/X): Insert(I)/Delete(D)/Exit(X) ==> \")\n",
    "queue = ListQueue()\n",
    "while (select != \"X\" and select != \"x\"):\n",
    "  if select==\"I\" or select ==\"i\" :\n",
    "    data = input(\"Type Input Data ==> \")\n",
    "    queue.enqueue(data)\n",
    "    print(queue.size(), \"number of elements, front : \", queue.front(), \", rear : \", queue.queue[queue.size()-1])\n",
    "  elif select==\"D\" or select ==\"d\":\n",
    "    print(\"Dequeue: removed an element from the front of the queue: \", queue.dequeue())\n",
    "    print(queue.size(), \"number of elements, front : \", queue.front(), \", rear : \", queue.queue[queue.size()-1])\n",
    "  else :\n",
    "    print(\"Wrong Insertion - should choose on of the followings (I/D/X): Insert(I)/Delete(D)/Exit(X)\")\n",
    "    select = input(\"Choose one of the followings (I/D/X): Insert(I)/Delete(D)/Exit(X) ==> \")\n",
    "    print(\"Terminate the program!\")"
   ]
  },
  {
   "cell_type": "markdown",
   "metadata": {},
   "source": [
    "# New Question\n",
    ": return a new queue that contains only the even numbers, in the original order. "
   ]
  },
  {
   "cell_type": "code",
   "execution_count": null,
   "metadata": {},
   "outputs": [
    {
     "name": "stdout",
     "output_type": "stream",
     "text": [
      "Elements from front to end: \n",
      "2 4 6 \n"
     ]
    }
   ],
   "source": [
    "def even_queue(queue):\n",
    "    result_queue = LinkedQueue()\n",
    "    for i in range(queue.size()):\n",
    "        value = queue.queue.get(i)\n",
    "        if value % 2 == 0:\n",
    "            result_queue.enqueue(value)\n",
    "    return result_queue\n",
    "\n",
    "\n",
    "\n",
    "a = LinkedQueue()\n",
    "for num in [1, 2, 3, 4, 5, 6]:\n",
    "    a.enqueue(num)\n",
    "even_q = even_queue(a)\n",
    "even_q.printQueue()  \n",
    "\n"
   ]
  }
 ],
 "metadata": {
  "colab": {
   "authorship_tag": "ABX9TyPp+V9n4yvsysrjaQWV9xqH",
   "provenance": [],
   "toc_visible": true
  },
  "kernelspec": {
   "display_name": "Python 3",
   "name": "python3"
  },
  "language_info": {
   "codemirror_mode": {
    "name": "ipython",
    "version": 3
   },
   "file_extension": ".py",
   "mimetype": "text/x-python",
   "name": "python",
   "nbconvert_exporter": "python",
   "pygments_lexer": "ipython3",
   "version": "3.10.11"
  }
 },
 "nbformat": 4,
 "nbformat_minor": 0
}