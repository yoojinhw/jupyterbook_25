{
  "cells": [
    {
      "cell_type": "markdown",
      "metadata": {
        "id": "5vW_ps6ZqZVe"
      },
      "source": [
        "# Intro to Python Lab\n"
      ]
    },
    {
      "cell_type": "markdown",
      "metadata": {},
      "source": [
        "# Set up"
      ]
    },
    {
      "cell_type": "markdown",
      "metadata": {},
      "source": []
    },
    {
      "cell_type": "markdown",
      "metadata": {
        "id": "t5ZyetRmnsIs"
      },
      "source": [
        "\n",
        "* `sys.path` is a list of directories that Python searches when looking for modules.\n",
        "* By using `append()`, the directory `/content/drive/MyDrive/2025_Teaching/2025_Data_Structures/Code` is added to this list, allowing Python to import modules or packages located in that path.\n"
      ]
    },
    {
      "cell_type": "markdown",
      "metadata": {
        "id": "P7nEIrGInrC2"
      },
      "source": [
        "## Modifying sys.path to Import External Modules"
      ]
    },
    {
      "cell_type": "code",
      "execution_count": 27,
      "metadata": {
        "id": "P0NSbGtdnrSm"
      },
      "outputs": [],
      "source": [
        "import sys\n",
        "sys.path.append(r\"C:\\Users\\rullu\\OneDrive\\바탕화~1-DESKTOP-1EHQRE9-9050723\\EWHA\\JupyterBook\\template_jupyterbook\")"
      ]
    },
    {
      "cell_type": "markdown",
      "metadata": {
        "id": "otAFNkKaisjO"
      },
      "source": [
        "# Introduction to Python Programming\n",
        "\n",
        "## Python Data Type"
      ]
    },
    {
      "cell_type": "code",
      "execution_count": 3,
      "metadata": {
        "colab": {
          "base_uri": "https://localhost:8080/"
        },
        "id": "q3bVyZWAhMMQ",
        "outputId": "8de2b0ba-2e5f-45ac-9c10-ddaea25bfb4e"
      },
      "outputs": [
        {
          "name": "stdout",
          "output_type": "stream",
          "text": [
            "Type of a:  <class 'int'>\n",
            "Type of b:  <class 'float'>\n",
            "Type of c:  <class 'str'>\n",
            "Type of d:  <class 'bool'>\n",
            "Type of e:  <class 'list'>\n"
          ]
        }
      ],
      "source": [
        "a = 5 # integer\n",
        "b = 5.0 # float: numbers with decimal points\n",
        "c = \"I'm a String\" # string\n",
        "d = True # boolean: true (1) or false (0)\n",
        "e = [\"apple\", \"banana\", \"grapes\"] # list\n",
        "\n",
        "print(\"Type of a: \", type(a))\n",
        "print(\"Type of b: \", type(b))\n",
        "print(\"Type of c: \", type(c))\n",
        "print(\"Type of d: \", type(d))\n",
        "print(\"Type of e: \", type(e))"
      ]
    },
    {
      "cell_type": "markdown",
      "metadata": {
        "id": "q-F_0mOei5IO"
      },
      "source": [
        "## List in Python\n"
      ]
    },
    {
      "cell_type": "code",
      "execution_count": 4,
      "metadata": {
        "id": "x5t1gtbTiC8l"
      },
      "outputs": [
        {
          "name": "stdout",
          "output_type": "stream",
          "text": [
            "first and third element of the list: apple , grapes\n",
            "the number of elements with the specified value:  2\n",
            "Add an element at the end of the list:\n",
            " ['apple', 'banana', 'grapes', 'banana', 'strawberry']\n",
            "Add an element at specified position of the list:\n",
            " ['apple', 'banana', 'watermelon', 'grapes', 'banana', 'strawberry']\n"
          ]
        }
      ],
      "source": [
        "f = [\"apple\", \"banana\", \"grapes\", \"banana\"]\n",
        "print(\"first and third element of the list:\", f[0],\",\", f[2])\n",
        "print(\"the number of elements with the specified value: \",f.count(\"banana\"))\n",
        "f.append(\"strawberry\")\n",
        "print(\"Add an element at the end of the list:\\n\",f)\n",
        "f.insert(2,\"watermelon\")\n",
        "print(\"Add an element at specified position of the list:\\n\",f)"
      ]
    },
    {
      "cell_type": "markdown",
      "metadata": {
        "id": "caeYnyHajJyl"
      },
      "source": [
        "## List Slicing in Python"
      ]
    },
    {
      "cell_type": "code",
      "execution_count": 5,
      "metadata": {
        "id": "5YrnMhqPjHt2"
      },
      "outputs": [
        {
          "name": "stdout",
          "output_type": "stream",
          "text": [
            "Elements from f[2] through  f[3]:  ['grapes', 'banana']\n",
            "Elements from f[1] through  f[2]:  ['banana', 'grapes']\n",
            "Elements from f[0] through  f[1]:  ['apple', 'banana']\n",
            "Element f[-2] or equivalently f[2] in this case:  grapes\n"
          ]
        }
      ],
      "source": [
        "f = [\"apple\", \"banana\", \"grapes\", \"banana\"]\n",
        "print(\"Elements from f[2] through  f[3]: \",f[2:])\n",
        "print(\"Elements from f[1] through  f[2]: \",f[1:3])\n",
        "print(\"Elements from f[0] through  f[1]: \",f[:2])\n",
        "# Index -1 represents the last element, -N represents the first element (N is the length of the list)\n",
        "print(\"Element f[-2] or equivalently f[2] in this case: \",f[-2])"
      ]
    },
    {
      "cell_type": "markdown",
      "metadata": {
        "id": "N2EZ26wjjOZd"
      },
      "source": [
        "## Any or All"
      ]
    },
    {
      "cell_type": "code",
      "execution_count": 6,
      "metadata": {
        "id": "LhXI5FjJjQKs"
      },
      "outputs": [
        {
          "name": "stdout",
          "output_type": "stream",
          "text": [
            "Is anything true?:  False\n",
            "Is anything true?:  True\n",
            "Is everything true?:  True\n",
            "Is everything true?:  False\n"
          ]
        }
      ],
      "source": [
        "print(\"Is anything true?: \", any([False, False, False, False]))\n",
        "print(\"Is anything true?: \", any([False, True, False, False]))\n",
        "print(\"Is everything true?: \", all([True, True, True, True]))\n",
        "print(\"Is everything true?: \", all([True, True, True, False]))"
      ]
    },
    {
      "cell_type": "markdown",
      "metadata": {
        "id": "8j26-mInjQD1"
      },
      "source": [
        "## Arithmetic Operators"
      ]
    },
    {
      "cell_type": "code",
      "execution_count": 7,
      "metadata": {
        "colab": {
          "base_uri": "https://localhost:8080/"
        },
        "id": "RrgIDpssjP71",
        "outputId": "2cafa22a-3809-4cf1-ae09-afc8c808e754"
      },
      "outputs": [
        {
          "name": "stdout",
          "output_type": "stream",
          "text": [
            "a + b =  13\n",
            "a - b =  7\n",
            "a * b =  30\n",
            "a / b =  3.3333333333333335\n",
            "a // b =  3\n",
            "a % b =  1\n",
            "a ^ b =  1000\n"
          ]
        }
      ],
      "source": [
        "a, b = 10, 3\n",
        "print(\"a + b = \", a + b) # Addition\n",
        "print(\"a - b = \", a - b) # Subtraction\n",
        "print(\"a * b = \", a * b) # Multiplication\n",
        "print(\"a / b = \", a / b) # Division\n",
        "print(\"a // b = \", a // b) # Floor division: rounds the result down to the nearest whole number\n",
        "print(\"a % b = \", a % b) # Modulus\n",
        "print(\"a ^ b = \", a ** b) # Exponentiation"
      ]
    },
    {
      "cell_type": "markdown",
      "metadata": {
        "id": "WsOYtunrjPzl"
      },
      "source": [
        "## Comparison Operators"
      ]
    },
    {
      "cell_type": "code",
      "execution_count": 8,
      "metadata": {
        "id": "OQzyMbRAjPme"
      },
      "outputs": [
        {
          "name": "stdout",
          "output_type": "stream",
          "text": [
            "Is a and b equal:  True\n",
            "Is a and c not equal:  True\n",
            "Is a is bigger than c:  True\n",
            "Is a is bigger than d:  True\n",
            "Is a is bigger than equal to b:  True\n",
            "Is integer 5 and string 5 equal:  False\n"
          ]
        }
      ],
      "source": [
        "a, b, c, d, e, f = 5, 5, 3, 7, \"5\", \"apple\"\n",
        "print(\"Is a and b equal: \", a == b)\n",
        "print(\"Is a and c not equal: \", a != c)\n",
        "print(\"Is a is bigger than c: \", a > c)\n",
        "print(\"Is a is bigger than d: \", a < d)\n",
        "print(\"Is a is bigger than equal to b: \", a >= b)\n",
        "print(\"Is integer 5 and string 5 equal: \", a == e)"
      ]
    },
    {
      "cell_type": "markdown",
      "metadata": {
        "id": "ujIPjyd8jdTl"
      },
      "source": [
        "## Identity Operators"
      ]
    },
    {
      "cell_type": "code",
      "execution_count": 5,
      "metadata": {
        "colab": {
          "base_uri": "https://localhost:8080/"
        },
        "id": "yXOsgnhXjdX9",
        "outputId": "f5cb10af-c304-4208-bc15-4986e060aac4"
      },
      "outputs": [
        {
          "name": "stdout",
          "output_type": "stream",
          "text": [
            "Is f and g the same object? False\n",
            "Is f and h the same object? True\n",
            "Does f and g has same elements? True\n"
          ]
        }
      ],
      "source": [
        "f = [\"apple\", \"banana\"]\n",
        "g = [\"apple\", \"banana\"]\n",
        "h = f\n",
        "print(\"Is f and g the same object?\", f is g)\n",
        "print(\"Is f and h the same object?\", f is h)\n",
        "print(\"Does f and g has same elements?\", f == g)"
      ]
    },
    {
      "cell_type": "markdown",
      "metadata": {
        "id": "i8HUCxOpjeFV"
      },
      "source": [
        "## Membership Operators"
      ]
    },
    {
      "cell_type": "code",
      "execution_count": 9,
      "metadata": {
        "id": "EhMrpxEKjdCt"
      },
      "outputs": [
        {
          "name": "stdout",
          "output_type": "stream",
          "text": [
            "Is element banana in list f? True\n",
            "Is element banana not in list f? False\n"
          ]
        }
      ],
      "source": [
        "f = [\"apple\", \"banana\", \"grapes\", \"banana\"]\n",
        "print(\"Is element banana in list f?\", \"banana\" in f)\n",
        "print(\"Is element banana not in list f?\", \"banana\" not in f)"
      ]
    },
    {
      "cell_type": "markdown",
      "metadata": {
        "id": "EG_7bmESjc9W"
      },
      "source": [
        "## Logical Operators"
      ]
    },
    {
      "cell_type": "code",
      "execution_count": 10,
      "metadata": {
        "id": "MDrzB6Mjjc2-"
      },
      "outputs": [
        {
          "name": "stdout",
          "output_type": "stream",
          "text": [
            "Is 5 < x < 10:  False\n",
            "Is x < 5 or x > 10:  True\n"
          ]
        }
      ],
      "source": [
        "x = 11\n",
        "print(\"Is 5 < x < 10: \", x > 5 and  x < 10)\n",
        "print(\"Is x < 5 or x > 10: \", x < 5 or x > 10)"
      ]
    },
    {
      "cell_type": "markdown",
      "metadata": {
        "id": "eQhtk4mUjcwd"
      },
      "source": [
        "## Range"
      ]
    },
    {
      "cell_type": "code",
      "execution_count": 11,
      "metadata": {
        "id": "cPge04wpjcn1"
      },
      "outputs": [
        {
          "name": "stdout",
          "output_type": "stream",
          "text": [
            "Range object:  range(0, 10)\n",
            "Numbers from 0 to 9, increment by 1:  [0, 1, 2, 3, 4, 5, 6, 7, 8, 9]\n",
            "Numbers from 3 to 9, increment by 1:  [3, 4, 5, 6, 7, 8]\n",
            "Numbers from 3 to 9, increment by 1:  [3, 5, 7]\n",
            "Numbers from 20 to 10, decrement by 2:  [20, 18, 16, 14, 12]\n"
          ]
        }
      ],
      "source": [
        "print(\"Range object: \",range(10))\n",
        "print(\"Numbers from 0 to 9, increment by 1: \",list(range(10)))\n",
        "print(\"Numbers from 3 to 9, increment by 1: \",list(range(3,9)))\n",
        "print(\"Numbers from 3 to 9, increment by 1: \",list(range(3,9,2)))\n",
        "print(\"Numbers from 20 to 10, decrement by 2: \",list(range(20,10,-2)))"
      ]
    },
    {
      "cell_type": "markdown",
      "metadata": {
        "id": "aPsth8HFjcev"
      },
      "source": [
        "## For Loops"
      ]
    },
    {
      "cell_type": "code",
      "execution_count": 12,
      "metadata": {
        "id": "a9finR-bjcV2"
      },
      "outputs": [
        {
          "name": "stdout",
          "output_type": "stream",
          "text": [
            "apple\n",
            "banana\n",
            "cherry\n",
            "3\n",
            "5\n",
            "7\n"
          ]
        }
      ],
      "source": [
        "fruits = [\"apple\", \"banana\", \"cherry\", \"watermelon\"]\n",
        "for x in fruits:\n",
        "  print(x)\n",
        "  if x == \"cherry\":\n",
        "    break\n",
        "\n",
        "for _ in range(3, 9, 2): # can use any characters instead of _\n",
        "    print(_)\n",
        "    x = 3"
      ]
    },
    {
      "cell_type": "markdown",
      "metadata": {
        "id": "z22ruPKFjcLu"
      },
      "source": [
        "## If else"
      ]
    },
    {
      "cell_type": "code",
      "execution_count": 13,
      "metadata": {
        "id": "DcDvh2Gjj921"
      },
      "outputs": [
        {
          "name": "stdout",
          "output_type": "stream",
          "text": [
            "a is greater than b\n"
          ]
        }
      ],
      "source": [
        "a, b = 200, 33\n",
        "if a < b:\n",
        "    print(\"b is greater than a\")\n",
        "elif a == b:\n",
        "    print(\"a and b are equal\")\n",
        "else:\n",
        "    print(\"a is greater than b\")"
      ]
    },
    {
      "cell_type": "markdown",
      "metadata": {
        "id": "VCkku30mj9xu"
      },
      "source": [
        "## While"
      ]
    },
    {
      "cell_type": "code",
      "execution_count": 14,
      "metadata": {
        "id": "Ku5KIt40j9rV"
      },
      "outputs": [
        {
          "name": "stdout",
          "output_type": "stream",
          "text": [
            "i is less than 6, i is equal to  1\n",
            "i is less than 6, i is equal to  2\n",
            "Exit while loop as i is equal to 3\n"
          ]
        }
      ],
      "source": [
        "i = 0 # if you try with i = 10, then while loop won't run\n",
        "while i < 6:\n",
        "  i = i + 1\n",
        "  if i == 3:\n",
        "    print(\"Exit while loop as i is equal to 3\")\n",
        "    break\n",
        "  else:\n",
        "    print(\"i is less than 6, i is equal to \", i) # try with i=10"
      ]
    },
    {
      "cell_type": "markdown",
      "metadata": {
        "id": "E2B-IFjFj9mN"
      },
      "source": [
        "## Functions"
      ]
    },
    {
      "cell_type": "code",
      "execution_count": 30,
      "metadata": {
        "colab": {
          "base_uri": "https://localhost:8080/"
        },
        "id": "ojVLOOcQj9he",
        "outputId": "aa5ee418-351b-4caa-e670-27578be78383"
      },
      "outputs": [
        {
          "name": "stdout",
          "output_type": "stream",
          "text": [
            "Output of my_function() is:  banana\n"
          ]
        }
      ],
      "source": [
        "def my_function(food):\n",
        "    return(food[1])\n",
        "fruits = [\"apple\", \"banana\", \"cherry\"]\n",
        "output = my_function(fruits)\n",
        "print(\"Output of my_function() is: \", output)"
      ]
    },
    {
      "cell_type": "markdown",
      "metadata": {
        "id": "usFwYo4DpkIc"
      },
      "source": [
        "## Plotting"
      ]
    },
    {
      "cell_type": "code",
      "execution_count": null,
      "metadata": {},
      "outputs": [],
      "source": []
    },
    {
      "cell_type": "code",
      "execution_count": 29,
      "metadata": {
        "id": "v2xJWlxxpkBU"
      },
      "outputs": [
        {
          "data": {
            "image/png": "[encoded data removed]",
            "text/plain": [
              "<Figure size 640x480 with 1 Axes>"
            ]
          },
          "metadata": {},
          "output_type": "display_data"
        }
      ],
      "source": [
        "# importing the required module\n",
        "import matplotlib.pyplot as plt\n",
        "\n",
        "# create data\n",
        "x = list(range(10,100,10))\n",
        "y1 = list(range(100,10,-10))\n",
        "y2 = list(range(10,100,10))\n",
        "\n",
        "# create plot\n",
        "plt.clf() # clear the current figure if any\n",
        "plt.plot(x, y1, label = \"line 1\") # plot lines\n",
        "plt.plot(x, y2, label = \"line 2\") # plot lines\n",
        "plt.legend() # add legend\n",
        "plt.title('Relationship between x and y') # add title\n",
        "plt.show() # show the plot"
      ]
    },
    {
      "cell_type": "markdown",
      "metadata": {
        "id": "grsCcuQhj9cN"
      },
      "source": [
        "# Classes and Objects\n",
        "## Attributes\n",
        "\n",
        "* `class` creates a user-defined data structure.\n",
        "* Attributes: the variables that belong to a class.\n",
        "* Attributes can be accessed using the dot (.) operator.\n"
      ]
    },
    {
      "cell_type": "code",
      "execution_count": 31,
      "metadata": {
        "colab": {
          "base_uri": "https://localhost:8080/"
        },
        "id": "lsWE3pDnj9Wt",
        "outputId": "f56df117-b481-45d6-f05f-866c64a8a8de"
      },
      "outputs": [
        {
          "name": "stdout",
          "output_type": "stream",
          "text": [
            "My name is Ewha\n",
            "I'm 25 years old\n"
          ]
        }
      ],
      "source": [
        "class MyClass: # a class in its simplest form\n",
        "  name = \"Ewha\" # attribute: a variable that belong to a class\n",
        "  age = 25\n",
        "myobject = MyClass() # an object in its simplest form\n",
        "print(\"My name is\", myobject.name)\n",
        "print(\"I'm\", myobject.age, \"years old\")"
      ]
    },
    {
      "cell_type": "markdown",
      "metadata": {
        "id": "JBIEyBdyj9RV"
      },
      "source": [
        "## `self` Parameter\n",
        "\n",
        "* A reference to the current instance of the class, and is used to access variables that belongs to the class.\n"
      ]
    },
    {
      "cell_type": "code",
      "execution_count": 32,
      "metadata": {
        "colab": {
          "base_uri": "https://localhost:8080/"
        },
        "id": "WKLkD4KDj9L1",
        "outputId": "6e68cf0c-a5f7-4fba-a987-fb5845f1105a"
      },
      "outputs": [
        {
          "name": "stdout",
          "output_type": "stream",
          "text": [
            "My name is Ewha\n",
            "I'm 25 years old\n",
            "Access name variable inside object: Ewha\n",
            "Access age variable inside object: 25\n"
          ]
        }
      ],
      "source": [
        "class MyClass:\n",
        "  name = \"Ewha\"\n",
        "  age = 25\n",
        "  def myname(self): # a function that belongs to the class\n",
        "    print(\"My name is\", self.name)\n",
        "    print(\"I'm\", self.age, \"years old\")\n",
        "myobject = MyClass()\n",
        "myobject.myname()\n",
        "print(\"Access name variable inside object:\", myobject.name)\n",
        "print(\"Access age variable inside object:\", myobject.age)\n"
      ]
    },
    {
      "cell_type": "markdown",
      "metadata": {
        "id": "mdSACDNJj9EV"
      },
      "source": [
        "## `__init__()` Function\n",
        "\n",
        "* A function which is always executed when the `class` is being initiated.\n",
        "\n",
        "* `__init__`: used to initialize objects of a newly created object of a class."
      ]
    },
    {
      "cell_type": "code",
      "execution_count": 33,
      "metadata": {
        "colab": {
          "base_uri": "https://localhost:8080/"
        },
        "id": "AqtEaSRyj85t",
        "outputId": "0636ff6b-d8c4-40ab-dc29-ef67112e4dcc"
      },
      "outputs": [
        {
          "name": "stdout",
          "output_type": "stream",
          "text": [
            "My name is Amy\n",
            "I'm 55 years old\n",
            "<__main__.MyClass object at 0x000002677F25E830>\n"
          ]
        }
      ],
      "source": [
        "class MyClass:\n",
        "  def __init__(self,name,age):\n",
        "    self.name = name\n",
        "    self.age = age\n",
        "\n",
        "  def myname(self):\n",
        "    print(\"My name is\", self.name)\n",
        "    print(\"I'm\", self.age, \"years old\")\n",
        "\n",
        "myobject = MyClass(name=\"Amy\", age=55)\n",
        "myobject.myname()\n",
        "print(myobject)"
      ]
    },
    {
      "cell_type": "markdown",
      "metadata": {
        "id": "ARjnMMxhmdcV"
      },
      "source": [
        "## Default values for `__init__()` Function\n"
      ]
    },
    {
      "cell_type": "code",
      "execution_count": 34,
      "metadata": {
        "colab": {
          "base_uri": "https://localhost:8080/"
        },
        "id": "Sl2hgnsWmdhM",
        "outputId": "e613c577-f23c-4783-d16c-e7743fa6e4bc"
      },
      "outputs": [
        {
          "name": "stdout",
          "output_type": "stream",
          "text": [
            "My name is Ewha\n",
            "I'm 25 years old\n"
          ]
        }
      ],
      "source": [
        "class MyClass:\n",
        "  def __init__(self, name=\"Ewha\", age=25):\n",
        "    self.name = name\n",
        "    self.age = age\n",
        "\n",
        "  def myname(self):\n",
        "    print(\"My name is\", self.name)\n",
        "    print(\"I'm\", self.age, \"years old\")\n",
        "\n",
        "myobject = MyClass()\n",
        "myobject.myname()"
      ]
    },
    {
      "cell_type": "markdown",
      "metadata": {
        "id": "SOzWXAHCmdRl"
      },
      "source": [
        "## `__init__()` Function and `self` Parameter\n",
        "\n",
        "* It does not have to be named `self`, but it has to be the first parameter of any function in the class.\n"
      ]
    },
    {
      "cell_type": "code",
      "execution_count": 35,
      "metadata": {
        "colab": {
          "base_uri": "https://localhost:8080/"
        },
        "id": "F3B4DfGamdLU",
        "outputId": "10a58423-9e30-435b-b4c2-9605be1e6250"
      },
      "outputs": [
        {
          "name": "stdout",
          "output_type": "stream",
          "text": [
            "My name is Apple\n",
            "I'm 55 years old\n"
          ]
        }
      ],
      "source": [
        "class MyClass:\n",
        "  def __init__(hey, name=\"Ewha\", age=25):\n",
        "    hey.name = name\n",
        "    hey.age = age\n",
        "\n",
        "  def myname(hey):\n",
        "    print(\"My name is\", hey.name)\n",
        "    print(\"I'm\", hey.age, \"years old\")\n",
        "\n",
        "myobject = MyClass(name=\"Apple\", age=55)\n",
        "myobject.myname()\n"
      ]
    },
    {
      "cell_type": "markdown",
      "metadata": {
        "id": "jwR5JqLpmgDM"
      },
      "source": [
        "## `__str__()` Function\n",
        "\n",
        "* Used to define how a class object should be represented as a string."
      ]
    },
    {
      "cell_type": "code",
      "execution_count": 36,
      "metadata": {
        "id": "4wf8v37Umsr1"
      },
      "outputs": [
        {
          "name": "stdout",
          "output_type": "stream",
          "text": [
            "<__main__.MyClass object at 0x0000026777B0F7F0>\n",
            "My name is Apple and I'm 55 years old.\n"
          ]
        }
      ],
      "source": [
        "print(myobject)\n",
        "\n",
        "class MyClass:\n",
        "  def __init__(self,name,age):\n",
        "    self.name = name\n",
        "    self.age = age\n",
        "\n",
        "  def __str__(self):\n",
        "    return f\"My name is {self.name} and I'm {self.age} years old.\"\n",
        "\n",
        "myobject = MyClass(name=\"Apple\", age=55)\n",
        "print(myobject)"
      ]
    },
    {
      "cell_type": "markdown",
      "metadata": {
        "id": "Nb0LZ6_8mdEl"
      },
      "source": [
        "## Modify Object Variables and Delete Object"
      ]
    },
    {
      "cell_type": "code",
      "execution_count": 37,
      "metadata": {
        "id": "6IiJMrd0muNN"
      },
      "outputs": [
        {
          "name": "stdout",
          "output_type": "stream",
          "text": [
            "age before modifying =  55\n",
            "age after modifying =  40\n"
          ]
        }
      ],
      "source": [
        "print(\"age before modifying = \", myobject.age)\n",
        "myobject.age = 40\n",
        "print(\"age after modifying = \", myobject.age)\n",
        "del myobject.age\n",
        "# print(\"age after deleting = \", myobject.age) # will return 'AttributeError: myobject' object has no attribute 'age'\n",
        "del myobject\n",
        "# print(myobject) # will return NameError: name 'myobject' is not defined"
      ]
    },
    {
      "cell_type": "markdown",
      "metadata": {
        "id": "rsQvBQDkmuE9"
      },
      "source": [
        "## Module: Importing\n",
        "\n",
        "* A file containing a set of functions you want to include in your application.\n",
        "* Create `mymodule.py` file including the below:"
      ]
    },
    {
      "cell_type": "code",
      "execution_count": 38,
      "metadata": {
        "id": "QxZ1hid2mt0E"
      },
      "outputs": [],
      "source": [
        "# <mymodule.py>\n",
        "def myname(name):\n",
        "  print(\"This is a function inside of a file mymodule.py\")\n",
        "  print(\"My name is\", name)\n",
        "\n",
        "def myage(age):\n",
        "  print(\"I'm\", age, \"years old\")"
      ]
    },
    {
      "cell_type": "markdown",
      "metadata": {
        "id": "wIQQ_IPonakV"
      },
      "source": [
        "* `Import` the module named `mymodule`, and call `myname` and `myage` function from `mymodule`.\n"
      ]
    },
    {
      "cell_type": "code",
      "execution_count": 42,
      "metadata": {
        "colab": {
          "base_uri": "https://localhost:8080/"
        },
        "id": "15ygWFK7naDM",
        "outputId": "e3ac5c78-7fc9-49b8-dec9-ee7a9eb57149"
      },
      "outputs": [
        {
          "name": "stdout",
          "output_type": "stream",
          "text": [
            "This is a function inside of a file mymodule.py\n",
            "My name is Ewha\n",
            "I'm 25 years old\n"
          ]
        }
      ],
      "source": [
        "import mymodule\n",
        "mymodule.myname(name=\"Ewha\")\n",
        "mymodule.myage(age=25)"
      ]
    },
    {
      "cell_type": "markdown",
      "metadata": {
        "id": "1usl8ljcnZ7z"
      },
      "source": [
        "## Module: Importing\n",
        "* You can choose to import only parts from a module, by using the `from` keyword."
      ]
    },
    {
      "cell_type": "code",
      "execution_count": 43,
      "metadata": {
        "id": "j7_6VLK7nZz2"
      },
      "outputs": [
        {
          "name": "stdout",
          "output_type": "stream",
          "text": [
            "This is a function inside of a file mymodule.py\n",
            "My name is Ewha\n"
          ]
        }
      ],
      "source": [
        "from mymodule import myname\n",
        "mymodule.myname(name=\"Ewha\")\n",
        "# mymodule.myage(age=25) # a function myage is not imported"
      ]
    },
    {
      "cell_type": "markdown",
      "metadata": {
        "id": "vck5qf-snZrd"
      },
      "source": [
        "## Module: Re-naming a Module\n",
        "* You can create an nickname when you import a module, by using the `as` keyword."
      ]
    },
    {
      "cell_type": "code",
      "execution_count": 44,
      "metadata": {
        "id": "pH3J9_2tpGZN"
      },
      "outputs": [
        {
          "name": "stdout",
          "output_type": "stream",
          "text": [
            "This is a function inside of a file mymodule.py\n",
            "My name is Ewha\n",
            "I'm 25 years old\n"
          ]
        }
      ],
      "source": [
        "import mymodule as md\n",
        "md.myname(name=\"Ewha\")\n",
        "md.myage(age=25)"
      ]
    }
  ],
  "metadata": {
    "colab": {
      "provenance": []
    },
    "kernelspec": {
      "display_name": "Python 3",
      "name": "python3"
    },
    "language_info": {
      "codemirror_mode": {
        "name": "ipython",
        "version": 3
      },
      "file_extension": ".py",
      "mimetype": "text/x-python",
      "name": "python",
      "nbconvert_exporter": "python",
      "pygments_lexer": "ipython3",
      "version": "3.10.11"
    }
  },
  "nbformat": 4,
  "nbformat_minor": 0
}
